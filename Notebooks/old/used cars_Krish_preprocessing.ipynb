{
 "cells": [
  {
   "cell_type": "code",
   "execution_count": 2,
   "metadata": {},
   "outputs": [],
   "source": [
    "import pandas as pd\n",
    "import matplotlib.pyplot as plt\n",
    "%matplotlib inline\n",
    "import seaborn as sns\n",
    "import numpy as np\n",
    "from statsmodels.stats.outliers_influence import variance_inflation_factor\n",
    "import math\n",
    "import re"
   ]
  },
  {
   "cell_type": "code",
   "execution_count": 3,
   "metadata": {},
   "outputs": [],
   "source": [
    "pd.set_option('display.max_columns', 100)"
   ]
  },
  {
   "cell_type": "code",
   "execution_count": 4,
   "metadata": {},
   "outputs": [
    {
     "name": "stderr",
     "output_type": "stream",
     "text": [
      "C:\\Users\\mvkri\\miniconda3\\envs\\tensorflow\\lib\\site-packages\\IPython\\core\\interactiveshell.py:3063: DtypeWarning: Columns (2,11) have mixed types.Specify dtype option on import or set low_memory=False.\n",
      "  interactivity=interactivity, compiler=compiler, result=result)\n"
     ]
    }
   ],
   "source": [
    "used_cars_df = pd.read_csv(\"C:/Users/mvkri/OneDrive/Documents/Big Data UVA/Project/used_cars_data.csv\", nrows=1000000)"
   ]
  },
  {
   "cell_type": "code",
   "execution_count": 5,
   "metadata": {},
   "outputs": [
    {
     "name": "stderr",
     "output_type": "stream",
     "text": [
      "C:\\Users\\mvkri\\miniconda3\\envs\\tensorflow\\lib\\site-packages\\ipykernel_launcher.py:1: FutureWarning: Columnar iteration over characters will be deprecated in future releases.\n",
      "  \"\"\"Entry point for launching an IPython kernel.\n"
     ]
    }
   ],
   "source": [
    "used_cars_df['torque'], used_cars_df['RPM'] = used_cars_df['torque'].str.split('@', 1).str"
   ]
  },
  {
   "cell_type": "code",
   "execution_count": 1,
   "metadata": {},
   "outputs": [
    {
     "ename": "NameError",
     "evalue": "name 'used_cars_df' is not defined",
     "output_type": "error",
     "traceback": [
      "\u001b[0;31m---------------------------------------------------------------------------\u001b[0m",
      "\u001b[0;31mNameError\u001b[0m                                 Traceback (most recent call last)",
      "\u001b[0;32m<ipython-input-1-844bb8e4dbb8>\u001b[0m in \u001b[0;36m<module>\u001b[0;34m\u001b[0m\n\u001b[0;32m----> 1\u001b[0;31m \u001b[0mused_cars_df\u001b[0m\u001b[0;34m.\u001b[0m\u001b[0mtail\u001b[0m\u001b[0;34m(\u001b[0m\u001b[0;36m10\u001b[0m\u001b[0;34m)\u001b[0m\u001b[0;34m\u001b[0m\u001b[0;34m\u001b[0m\u001b[0m\n\u001b[0m",
      "\u001b[0;31mNameError\u001b[0m: name 'used_cars_df' is not defined"
     ]
    }
   ],
   "source": [
    "used_cars_df.tail(10)"
   ]
  },
  {
   "cell_type": "code",
   "execution_count": null,
   "metadata": {},
   "outputs": [],
   "source": []
  },
  {
   "cell_type": "code",
   "execution_count": 6,
   "metadata": {},
   "outputs": [],
   "source": [
    "## Format column values to remove string from the numerical columns\n",
    "\n",
    "used_cars_df['back_legroom'] = used_cars_df['back_legroom'].str.replace(r'\\D', '')\n",
    "used_cars_df['front_legroom'] = used_cars_df['front_legroom'].str.replace(r'\\D', '')\n",
    "used_cars_df['fuel_tank_volume'] = used_cars_df['fuel_tank_volume'].str.replace(r'\\D', '')\n",
    "used_cars_df['height'] = used_cars_df['height'].str.replace(r'\\D', '')\n",
    "used_cars_df['length'] = used_cars_df['length'].str.replace(r'\\D', '')\n",
    "used_cars_df['maximum_seating'] = used_cars_df['maximum_seating'].str.replace(r'\\D', '')\n",
    "used_cars_df['wheelbase'] = used_cars_df['wheelbase'].str.replace(r'\\D', '')\n",
    "used_cars_df['width'] = used_cars_df['width'].str.replace(r'\\D', '')\n",
    "used_cars_df['torque'] = used_cars_df['torque'].str.replace(r'\\D', '')\n",
    "used_cars_df['RPM'] = used_cars_df['RPM'].str.replace(r'\\D', '')"
   ]
  },
  {
   "cell_type": "code",
   "execution_count": 7,
   "metadata": {},
   "outputs": [],
   "source": [
    "## Remove unwanted variables\n",
    "variables_to_remove = ['wheel_system_display', 'trimId', 'trim_name', \n",
    "                       'sp_id','power', 'engine_type', 'description', 'listed_date', 'vin']\n",
    "                        \n",
    "used_cars_df.drop(variables_to_remove, axis = 1, inplace = True)"
   ]
  },
  {
   "cell_type": "code",
   "execution_count": 8,
   "metadata": {},
   "outputs": [],
   "source": [
    "def format_transmission_display(display_value):\n",
    "    if \"Speed\" in display_value:\n",
    "        return display_value[:7]\n",
    "    else:\n",
    "        return ''"
   ]
  },
  {
   "cell_type": "code",
   "execution_count": 9,
   "metadata": {},
   "outputs": [],
   "source": [
    "## Format transmission display to keep only first 7 characters as the automatic, manual part is in the transmission column\n",
    "used_cars_df.transmission_display = used_cars_df.transmission_display.fillna('')\n",
    "used_cars_df['transmission_display'] = used_cars_df['transmission_display'].apply(format_transmission_display)"
   ]
  },
  {
   "cell_type": "code",
   "execution_count": 10,
   "metadata": {},
   "outputs": [],
   "source": [
    "used_cars_df_dummy = used_cars_df.copy()"
   ]
  },
  {
   "cell_type": "code",
   "execution_count": 11,
   "metadata": {},
   "outputs": [],
   "source": [
    "def format_main_picture(url):\n",
    "    #print(url)\n",
    "    if pd.isnull(url):\n",
    "        return False\n",
    "    else:\n",
    "        return True"
   ]
  },
  {
   "cell_type": "code",
   "execution_count": 14,
   "metadata": {},
   "outputs": [],
   "source": [
    "## Format main_picture_url column to decide True or False for image availability\n",
    "used_cars_df_dummy['main_picture_url'] = used_cars_df_dummy['main_picture_url'].apply(format_main_picture)"
   ]
  },
  {
   "cell_type": "code",
   "execution_count": 15,
   "metadata": {},
   "outputs": [],
   "source": [
    "## Remove unwanted variables\n",
    "variables_to_remove_1 = ['listing_id', 'longitude', 'latitude', \n",
    "                       'city', 'listing_color']\n",
    "                        \n",
    "used_cars_df_dummy.drop(variables_to_remove_1, axis = 1, inplace = True)"
   ]
  },
  {
   "cell_type": "code",
   "execution_count": 16,
   "metadata": {},
   "outputs": [],
   "source": [
    "def format_major_options(options):\n",
    "    if pd.isnull(options):\n",
    "        return 0\n",
    "    else:\n",
    "        return options.count(',') + 1"
   ]
  },
  {
   "cell_type": "code",
   "execution_count": 17,
   "metadata": {},
   "outputs": [],
   "source": [
    "## Format major_options to turn list to #elements\n",
    "used_cars_df_dummy['major_options'] = used_cars_df_dummy['major_options'].apply(format_major_options)"
   ]
  },
  {
   "cell_type": "code",
   "execution_count": 18,
   "metadata": {},
   "outputs": [],
   "source": [
    "def format_interior_colors(interior_color):\n",
    "    if pd.isnull(interior_color):\n",
    "        return ' '\n",
    "    else:\n",
    "        #regex = re.compile(\".*?\\((.*?)\\)\")\n",
    "        return re.sub(\"[\\(\\[].*?[\\)\\]]\", \"\", interior_color)"
   ]
  },
  {
   "cell_type": "code",
   "execution_count": 19,
   "metadata": {},
   "outputs": [],
   "source": [
    "## Format remove () from interior colors\n",
    "used_cars_df_dummy['interior_color'] = used_cars_df_dummy['interior_color'].apply(format_interior_colors)"
   ]
  },
  {
   "cell_type": "code",
   "execution_count": 20,
   "metadata": {},
   "outputs": [],
   "source": [
    "def combined_fuel_economy(city_economy, highway_economy):\n",
    "    return 1/((1/2) * ((1/city_economy) + (1/highway_economy)))"
   ]
  },
  {
   "cell_type": "code",
   "execution_count": 21,
   "metadata": {},
   "outputs": [],
   "source": [
    "used_cars_df_dummy['combine_fuel_economy'] = combined_fuel_economy(used_cars_df_dummy['city_fuel_economy'] , used_cars_df_dummy['highway_fuel_economy'])"
   ]
  },
  {
   "cell_type": "code",
   "execution_count": 22,
   "metadata": {},
   "outputs": [],
   "source": [
    "## Remove unwanted variables\n",
    "variables_to_remove_2 = ['dealer_zip']\n",
    "                        \n",
    "used_cars_df_dummy.drop(variables_to_remove_2, axis = 1, inplace = True)"
   ]
  },
  {
   "cell_type": "code",
   "execution_count": 23,
   "metadata": {},
   "outputs": [],
   "source": [
    "## Remove unwanted variables\n",
    "variables_to_remove_3 = ['sp_name']\n",
    "                        \n",
    "used_cars_df_dummy.drop(variables_to_remove_3, axis = 1, inplace = True)"
   ]
  },
  {
   "cell_type": "code",
   "execution_count": 24,
   "metadata": {},
   "outputs": [],
   "source": [
    "## Remove unwanted variables\n",
    "variables_to_remove_4 = ['vehicle_damage_category','engine_displacement','city_fuel_economy', 'highway_fuel_economy']\n",
    "                        \n",
    "used_cars_df_dummy.drop(variables_to_remove_4, axis = 1, inplace = True)"
   ]
  },
  {
   "cell_type": "code",
   "execution_count": 25,
   "metadata": {},
   "outputs": [
    {
     "data": {
      "text/plain": [
       "<matplotlib.axes._subplots.AxesSubplot at 0x237b2fed748>"
      ]
     },
     "execution_count": 25,
     "metadata": {},
     "output_type": "execute_result"
    },
    {
     "data": {
      "image/png": "[encoded data removed]",
      "text/plain": [
       "<Figure size 432x288 with 1 Axes>"
      ]
     },
     "metadata": {
      "needs_background": "light"
     },
     "output_type": "display_data"
    }
   ],
   "source": [
    "sns.scatterplot(x= 'width', y= 'price', data=used_cars_df_dummy)"
   ]
  },
  {
   "cell_type": "code",
   "execution_count": 26,
   "metadata": {},
   "outputs": [],
   "source": [
    "# Remove price incorrect Ford card with value of >2000000\n",
    "used_cars_df_dummy = used_cars_df_dummy.drop(230048) "
   ]
  },
  {
   "cell_type": "code",
   "execution_count": 28,
   "metadata": {},
   "outputs": [],
   "source": [
    "data_columns = ['back_legroom', 'bed', 'bed_height', 'combine_fuel_economy', 'daysonmarket'\n",
    "                                       , 'front_legroom', 'fuel_tank_volume', 'height', 'horsepower'\n",
    "                                       , 'length', 'mileage', 'price', 'seller_rating', 'torque', 'wheelbase', 'width', 'RPM']\n",
    "used_cars_df_dummy_fmt = (used_cars_df_dummy.drop(data_columns, axis=1)\n",
    "         .join(used_cars_df_dummy[data_columns].apply(pd.to_numeric, errors='coerce')))\n",
    "used_cars_df_dummy = used_cars_df_dummy_fmt.copy()"
   ]
  },
  {
   "cell_type": "code",
   "execution_count": 32,
   "metadata": {},
   "outputs": [],
   "source": [
    "#Replace Nan values by zeroes in numerical columns\n",
    "used_cars_df_dummy['bed'] = used_cars_df_dummy['bed'].replace(np.nan, 0)\n",
    "used_cars_df_dummy['bed_height'] = used_cars_df_dummy['bed_height'].replace(np.nan, 0)\n",
    "used_cars_df_dummy['bed_length'] = used_cars_df_dummy['bed_length'].replace(np.nan, 0)\n",
    "#used_cars_df_dummy['city_fuel_economy'] = used_cars_df_dummy['city_fuel_economy'].replace(np.nan, 0)\n",
    "used_cars_df_dummy['combine_fuel_economy'] = used_cars_df_dummy['combine_fuel_economy'].replace(np.nan, 0)\n",
    "used_cars_df_dummy['daysonmarket'] = used_cars_df_dummy['daysonmarket'].replace(np.nan, 0)\n",
    "#used_cars_df_dummy['engine_displacement'] = used_cars_df_dummy['engine_displacement'].replace(np.nan, 0)\n",
    "used_cars_df_dummy['front_legroom'] = used_cars_df_dummy['front_legroom'].replace(np.nan, 0)\n",
    "used_cars_df_dummy['fuel_tank_volume'] = used_cars_df_dummy['fuel_tank_volume'].replace(np.nan, 0)\n",
    "used_cars_df_dummy['height'] = used_cars_df_dummy['height'].replace(np.nan, 0)\n",
    "#used_cars_df_dummy['highway_fuel_economy'] = used_cars_df_dummy['highway_fuel_economy'].replace(np.nan, 0)\n",
    "used_cars_df_dummy['horsepower'] = used_cars_df_dummy['horsepower'].replace(np.nan, 0)\n",
    "used_cars_df_dummy['length'] = used_cars_df_dummy['length'].replace(np.nan, 0)\n",
    "used_cars_df_dummy['major_options'] = used_cars_df_dummy['major_options'].replace(np.nan, 0)\n",
    "used_cars_df_dummy['maximum_seating'] = used_cars_df_dummy['maximum_seating'].replace(np.nan, 0)\n",
    "used_cars_df_dummy['mileage'] = used_cars_df_dummy['mileage'].replace(np.nan, 0)\n",
    "used_cars_df_dummy['owner_count'] = used_cars_df_dummy['owner_count'].replace(np.nan, 0)\n",
    "used_cars_df_dummy['price'] = used_cars_df_dummy['price'].replace(np.nan, 0)\n",
    "used_cars_df_dummy['savings_amount'] = used_cars_df_dummy['savings_amount'].replace(np.nan, 0)\n",
    "used_cars_df_dummy['torque'] = used_cars_df_dummy['torque'].replace(np.nan, 0)\n",
    "used_cars_df_dummy['wheelbase'] = used_cars_df_dummy['wheelbase'].replace(np.nan, 0)\n",
    "used_cars_df_dummy['width'] = used_cars_df_dummy['width'].replace(np.nan, 0)\n",
    "used_cars_df_dummy['year'] = used_cars_df_dummy['year'].replace(np.nan, 0)\n",
    "used_cars_df_dummy['RPM'] = used_cars_df_dummy['RPM'].replace(np.nan, 0)\n",
    "used_cars_df_dummy['seller_rating'] = used_cars_df_dummy['seller_rating'].replace(np.nan, 0)\n",
    "used_cars_df_dummy['back_legroom'] = used_cars_df_dummy['back_legroom'].replace(np.nan, 0)"
   ]
  },
  {
   "cell_type": "code",
   "execution_count": 33,
   "metadata": {},
   "outputs": [],
   "source": [
    "#Replace Nan values with spaces in alphanumeric columns\n",
    "used_cars_df_dummy.body_type = used_cars_df_dummy.body_type.fillna('')\n",
    "used_cars_df_dummy.cabin = used_cars_df_dummy.cabin.fillna('')\n",
    "used_cars_df_dummy.engine_cylinders = used_cars_df_dummy.engine_cylinders.fillna('')\n",
    "used_cars_df_dummy.exterior_color = used_cars_df_dummy.exterior_color.fillna('')\n",
    "used_cars_df_dummy.fleet = used_cars_df_dummy.fleet.fillna('')\n",
    "used_cars_df_dummy.frame_damaged = used_cars_df_dummy.frame_damaged.fillna('')\n",
    "used_cars_df_dummy.franchise_dealer = used_cars_df_dummy.franchise_dealer.fillna('')\n",
    "used_cars_df_dummy.franchise_make = used_cars_df_dummy.franchise_make.fillna('')\n",
    "used_cars_df_dummy.fuel_type = used_cars_df_dummy.fuel_type.fillna('')\n",
    "used_cars_df_dummy.has_accidents = used_cars_df_dummy.has_accidents.fillna('')\n",
    "used_cars_df_dummy.isCab = used_cars_df_dummy.isCab.fillna('')\n",
    "used_cars_df_dummy.is_certified = used_cars_df_dummy.is_certified.fillna('')\n",
    "used_cars_df_dummy.is_cpo = used_cars_df_dummy.is_cpo.fillna('')\n",
    "used_cars_df_dummy.is_new = used_cars_df_dummy.is_new.fillna('')\n",
    "used_cars_df_dummy.is_oemcpo = used_cars_df_dummy.is_oemcpo.fillna('')\n",
    "used_cars_df_dummy.main_picture_url = used_cars_df_dummy.main_picture_url.fillna('')\n",
    "used_cars_df_dummy.make_name = used_cars_df_dummy.make_name.fillna('')\n",
    "used_cars_df_dummy.model_name = used_cars_df_dummy.model_name.fillna('')\n",
    "used_cars_df_dummy.salvage = used_cars_df_dummy.is_oemcpo.fillna('')\n",
    "used_cars_df_dummy.theft_title = used_cars_df_dummy.theft_title.fillna('')\n",
    "used_cars_df_dummy.transmission = used_cars_df_dummy.transmission.fillna('')\n",
    "used_cars_df_dummy.transmission_display = used_cars_df_dummy.transmission_display.fillna('')\n",
    "used_cars_df_dummy.wheel_system = used_cars_df_dummy.wheel_system.fillna('')"
   ]
  },
  {
   "cell_type": "code",
   "execution_count": 41,
   "metadata": {},
   "outputs": [
    {
     "data": {
      "text/html": [
       "<div>\n",
       "<style scoped>\n",
       "    .dataframe tbody tr th:only-of-type {\n",
       "        vertical-align: middle;\n",
       "    }\n",
       "\n",
       "    .dataframe tbody tr th {\n",
       "        vertical-align: top;\n",
       "    }\n",
       "\n",
       "    .dataframe thead th {\n",
       "        text-align: right;\n",
       "    }\n",
       "</style>\n",
       "<table border=\"1\" class=\"dataframe\">\n",
       "  <thead>\n",
       "    <tr style=\"text-align: right;\">\n",
       "      <th></th>\n",
       "      <th>bed_length</th>\n",
       "      <th>body_type</th>\n",
       "      <th>cabin</th>\n",
       "      <th>engine_cylinders</th>\n",
       "      <th>exterior_color</th>\n",
       "      <th>fleet</th>\n",
       "      <th>frame_damaged</th>\n",
       "      <th>franchise_dealer</th>\n",
       "      <th>franchise_make</th>\n",
       "      <th>fuel_type</th>\n",
       "      <th>has_accidents</th>\n",
       "      <th>interior_color</th>\n",
       "      <th>isCab</th>\n",
       "      <th>is_certified</th>\n",
       "      <th>is_cpo</th>\n",
       "      <th>is_new</th>\n",
       "      <th>is_oemcpo</th>\n",
       "      <th>main_picture_url</th>\n",
       "      <th>major_options</th>\n",
       "      <th>make_name</th>\n",
       "      <th>maximum_seating</th>\n",
       "      <th>model_name</th>\n",
       "      <th>owner_count</th>\n",
       "      <th>salvage</th>\n",
       "      <th>savings_amount</th>\n",
       "      <th>theft_title</th>\n",
       "      <th>transmission</th>\n",
       "      <th>transmission_display</th>\n",
       "      <th>wheel_system</th>\n",
       "      <th>year</th>\n",
       "      <th>back_legroom</th>\n",
       "      <th>bed</th>\n",
       "      <th>bed_height</th>\n",
       "      <th>combine_fuel_economy</th>\n",
       "      <th>daysonmarket</th>\n",
       "      <th>front_legroom</th>\n",
       "      <th>fuel_tank_volume</th>\n",
       "      <th>height</th>\n",
       "      <th>horsepower</th>\n",
       "      <th>length</th>\n",
       "      <th>mileage</th>\n",
       "      <th>price</th>\n",
       "      <th>seller_rating</th>\n",
       "      <th>torque</th>\n",
       "      <th>wheelbase</th>\n",
       "      <th>width</th>\n",
       "      <th>RPM</th>\n",
       "    </tr>\n",
       "  </thead>\n",
       "  <tbody>\n",
       "    <tr>\n",
       "      <th>999995</th>\n",
       "      <td>0</td>\n",
       "      <td>SUV / Crossover</td>\n",
       "      <td></td>\n",
       "      <td>V6</td>\n",
       "      <td>Pearl White Tricoat</td>\n",
       "      <td></td>\n",
       "      <td></td>\n",
       "      <td>True</td>\n",
       "      <td>Nissan</td>\n",
       "      <td>Gasoline</td>\n",
       "      <td></td>\n",
       "      <td>White</td>\n",
       "      <td></td>\n",
       "      <td></td>\n",
       "      <td></td>\n",
       "      <td>True</td>\n",
       "      <td></td>\n",
       "      <td>True</td>\n",
       "      <td>6</td>\n",
       "      <td>Nissan</td>\n",
       "      <td>5</td>\n",
       "      <td>Murano</td>\n",
       "      <td>0.0</td>\n",
       "      <td></td>\n",
       "      <td>0</td>\n",
       "      <td></td>\n",
       "      <td>CVT</td>\n",
       "      <td></td>\n",
       "      <td>AWD</td>\n",
       "      <td>2020</td>\n",
       "      <td>387.0</td>\n",
       "      <td>0.0</td>\n",
       "      <td>0.0</td>\n",
       "      <td>23.333333</td>\n",
       "      <td>70</td>\n",
       "      <td>405.0</td>\n",
       "      <td>19.0</td>\n",
       "      <td>678.0</td>\n",
       "      <td>260.0</td>\n",
       "      <td>1928.0</td>\n",
       "      <td>3.0</td>\n",
       "      <td>36267.0</td>\n",
       "      <td>4.500000</td>\n",
       "      <td>240.0</td>\n",
       "      <td>1112.0</td>\n",
       "      <td>754.0</td>\n",
       "      <td>4400.0</td>\n",
       "    </tr>\n",
       "    <tr>\n",
       "      <th>999996</th>\n",
       "      <td>0</td>\n",
       "      <td>Sedan</td>\n",
       "      <td></td>\n",
       "      <td>I4</td>\n",
       "      <td>Silky Silver</td>\n",
       "      <td>False</td>\n",
       "      <td>False</td>\n",
       "      <td>False</td>\n",
       "      <td></td>\n",
       "      <td>Gasoline</td>\n",
       "      <td>False</td>\n",
       "      <td>Gray</td>\n",
       "      <td>False</td>\n",
       "      <td></td>\n",
       "      <td></td>\n",
       "      <td>False</td>\n",
       "      <td></td>\n",
       "      <td>True</td>\n",
       "      <td>5</td>\n",
       "      <td>Kia</td>\n",
       "      <td>5</td>\n",
       "      <td>Forte</td>\n",
       "      <td>1.0</td>\n",
       "      <td></td>\n",
       "      <td>10</td>\n",
       "      <td>False</td>\n",
       "      <td>A</td>\n",
       "      <td>6-Speed</td>\n",
       "      <td>FWD</td>\n",
       "      <td>2017</td>\n",
       "      <td>359.0</td>\n",
       "      <td>0.0</td>\n",
       "      <td>0.0</td>\n",
       "      <td>28.448276</td>\n",
       "      <td>16</td>\n",
       "      <td>422.0</td>\n",
       "      <td>132.0</td>\n",
       "      <td>563.0</td>\n",
       "      <td>164.0</td>\n",
       "      <td>1795.0</td>\n",
       "      <td>5037.0</td>\n",
       "      <td>15746.0</td>\n",
       "      <td>4.211765</td>\n",
       "      <td>151.0</td>\n",
       "      <td>1063.0</td>\n",
       "      <td>701.0</td>\n",
       "      <td>4000.0</td>\n",
       "    </tr>\n",
       "    <tr>\n",
       "      <th>999997</th>\n",
       "      <td>0</td>\n",
       "      <td>SUV / Crossover</td>\n",
       "      <td></td>\n",
       "      <td>I3</td>\n",
       "      <td>Deep Azure Metallic</td>\n",
       "      <td></td>\n",
       "      <td></td>\n",
       "      <td>True</td>\n",
       "      <td>Buick</td>\n",
       "      <td>Gasoline</td>\n",
       "      <td></td>\n",
       "      <td>Brown</td>\n",
       "      <td></td>\n",
       "      <td></td>\n",
       "      <td></td>\n",
       "      <td>True</td>\n",
       "      <td></td>\n",
       "      <td>False</td>\n",
       "      <td>13</td>\n",
       "      <td>Buick</td>\n",
       "      <td>5</td>\n",
       "      <td>Encore GX</td>\n",
       "      <td>0.0</td>\n",
       "      <td></td>\n",
       "      <td>0</td>\n",
       "      <td></td>\n",
       "      <td>A</td>\n",
       "      <td>9-Speed</td>\n",
       "      <td>4WD</td>\n",
       "      <td>2020</td>\n",
       "      <td>36.0</td>\n",
       "      <td>0.0</td>\n",
       "      <td>0.0</td>\n",
       "      <td>27.418182</td>\n",
       "      <td>13</td>\n",
       "      <td>409.0</td>\n",
       "      <td>132.0</td>\n",
       "      <td>641.0</td>\n",
       "      <td>150.0</td>\n",
       "      <td>1714.0</td>\n",
       "      <td>2.0</td>\n",
       "      <td>32222.0</td>\n",
       "      <td>4.588235</td>\n",
       "      <td>174.0</td>\n",
       "      <td>1022.0</td>\n",
       "      <td>714.0</td>\n",
       "      <td>1500.0</td>\n",
       "    </tr>\n",
       "    <tr>\n",
       "      <th>999998</th>\n",
       "      <td>0</td>\n",
       "      <td>Sedan</td>\n",
       "      <td></td>\n",
       "      <td>I4</td>\n",
       "      <td>Aspen White Tricoat</td>\n",
       "      <td></td>\n",
       "      <td></td>\n",
       "      <td>True</td>\n",
       "      <td>Nissan</td>\n",
       "      <td>Gasoline</td>\n",
       "      <td></td>\n",
       "      <td>Black</td>\n",
       "      <td></td>\n",
       "      <td></td>\n",
       "      <td></td>\n",
       "      <td>True</td>\n",
       "      <td></td>\n",
       "      <td>True</td>\n",
       "      <td>1</td>\n",
       "      <td>Nissan</td>\n",
       "      <td>5</td>\n",
       "      <td>Sentra</td>\n",
       "      <td>0.0</td>\n",
       "      <td></td>\n",
       "      <td>0</td>\n",
       "      <td></td>\n",
       "      <td>CVT</td>\n",
       "      <td></td>\n",
       "      <td>FWD</td>\n",
       "      <td>2020</td>\n",
       "      <td>374.0</td>\n",
       "      <td>0.0</td>\n",
       "      <td>0.0</td>\n",
       "      <td>33.264706</td>\n",
       "      <td>160</td>\n",
       "      <td>44.0</td>\n",
       "      <td>124.0</td>\n",
       "      <td>569.0</td>\n",
       "      <td>149.0</td>\n",
       "      <td>1827.0</td>\n",
       "      <td>7.0</td>\n",
       "      <td>20479.0</td>\n",
       "      <td>5.000000</td>\n",
       "      <td>146.0</td>\n",
       "      <td>1068.0</td>\n",
       "      <td>715.0</td>\n",
       "      <td>4400.0</td>\n",
       "    </tr>\n",
       "    <tr>\n",
       "      <th>999999</th>\n",
       "      <td>61 in</td>\n",
       "      <td>Pickup Truck</td>\n",
       "      <td></td>\n",
       "      <td>I4</td>\n",
       "      <td>Black</td>\n",
       "      <td>False</td>\n",
       "      <td>False</td>\n",
       "      <td>True</td>\n",
       "      <td>Ford</td>\n",
       "      <td>Gasoline</td>\n",
       "      <td>False</td>\n",
       "      <td>None</td>\n",
       "      <td>False</td>\n",
       "      <td></td>\n",
       "      <td></td>\n",
       "      <td>True</td>\n",
       "      <td></td>\n",
       "      <td>False</td>\n",
       "      <td>12</td>\n",
       "      <td>Ford</td>\n",
       "      <td>5</td>\n",
       "      <td>Ranger</td>\n",
       "      <td>0.0</td>\n",
       "      <td></td>\n",
       "      <td>0</td>\n",
       "      <td>False</td>\n",
       "      <td>A</td>\n",
       "      <td></td>\n",
       "      <td>4WD</td>\n",
       "      <td>2020</td>\n",
       "      <td>345.0</td>\n",
       "      <td>0.0</td>\n",
       "      <td>0.0</td>\n",
       "      <td>21.818182</td>\n",
       "      <td>252</td>\n",
       "      <td>431.0</td>\n",
       "      <td>18.0</td>\n",
       "      <td>718.0</td>\n",
       "      <td>270.0</td>\n",
       "      <td>2108.0</td>\n",
       "      <td>0.0</td>\n",
       "      <td>38705.0</td>\n",
       "      <td>4.000000</td>\n",
       "      <td>0.0</td>\n",
       "      <td>1268.0</td>\n",
       "      <td>858.0</td>\n",
       "      <td>0.0</td>\n",
       "    </tr>\n",
       "  </tbody>\n",
       "</table>\n",
       "</div>"
      ],
      "text/plain": [
       "       bed_length        body_type cabin engine_cylinders  \\\n",
       "999995          0  SUV / Crossover                     V6   \n",
       "999996          0            Sedan                     I4   \n",
       "999997          0  SUV / Crossover                     I3   \n",
       "999998          0            Sedan                     I4   \n",
       "999999      61 in     Pickup Truck                     I4   \n",
       "\n",
       "             exterior_color  fleet frame_damaged  franchise_dealer  \\\n",
       "999995  Pearl White Tricoat                                   True   \n",
       "999996         Silky Silver  False         False             False   \n",
       "999997  Deep Azure Metallic                                   True   \n",
       "999998  Aspen White Tricoat                                   True   \n",
       "999999                Black  False         False              True   \n",
       "\n",
       "       franchise_make fuel_type has_accidents interior_color  isCab  \\\n",
       "999995         Nissan  Gasoline                       White           \n",
       "999996                 Gasoline         False           Gray  False   \n",
       "999997          Buick  Gasoline                       Brown           \n",
       "999998         Nissan  Gasoline                       Black           \n",
       "999999           Ford  Gasoline         False           None  False   \n",
       "\n",
       "       is_certified is_cpo  is_new is_oemcpo  main_picture_url  major_options  \\\n",
       "999995                        True                        True              6   \n",
       "999996                       False                        True              5   \n",
       "999997                        True                       False             13   \n",
       "999998                        True                        True              1   \n",
       "999999                        True                       False             12   \n",
       "\n",
       "       make_name maximum_seating model_name  owner_count salvage  \\\n",
       "999995    Nissan               5     Murano          0.0           \n",
       "999996       Kia               5      Forte          1.0           \n",
       "999997     Buick               5  Encore GX          0.0           \n",
       "999998    Nissan               5     Sentra          0.0           \n",
       "999999      Ford               5     Ranger          0.0           \n",
       "\n",
       "        savings_amount theft_title transmission transmission_display  \\\n",
       "999995               0                      CVT                        \n",
       "999996              10       False            A              6-Speed   \n",
       "999997               0                        A              9-Speed   \n",
       "999998               0                      CVT                        \n",
       "999999               0       False            A                        \n",
       "\n",
       "       wheel_system  year  back_legroom  bed  bed_height  \\\n",
       "999995          AWD  2020         387.0  0.0         0.0   \n",
       "999996          FWD  2017         359.0  0.0         0.0   \n",
       "999997          4WD  2020          36.0  0.0         0.0   \n",
       "999998          FWD  2020         374.0  0.0         0.0   \n",
       "999999          4WD  2020         345.0  0.0         0.0   \n",
       "\n",
       "        combine_fuel_economy  daysonmarket  front_legroom  fuel_tank_volume  \\\n",
       "999995             23.333333            70          405.0              19.0   \n",
       "999996             28.448276            16          422.0             132.0   \n",
       "999997             27.418182            13          409.0             132.0   \n",
       "999998             33.264706           160           44.0             124.0   \n",
       "999999             21.818182           252          431.0              18.0   \n",
       "\n",
       "        height  horsepower  length  mileage    price  seller_rating  torque  \\\n",
       "999995   678.0       260.0  1928.0      3.0  36267.0       4.500000   240.0   \n",
       "999996   563.0       164.0  1795.0   5037.0  15746.0       4.211765   151.0   \n",
       "999997   641.0       150.0  1714.0      2.0  32222.0       4.588235   174.0   \n",
       "999998   569.0       149.0  1827.0      7.0  20479.0       5.000000   146.0   \n",
       "999999   718.0       270.0  2108.0      0.0  38705.0       4.000000     0.0   \n",
       "\n",
       "        wheelbase  width     RPM  \n",
       "999995     1112.0  754.0  4400.0  \n",
       "999996     1063.0  701.0  4000.0  \n",
       "999997     1022.0  714.0  1500.0  \n",
       "999998     1068.0  715.0  4400.0  \n",
       "999999     1268.0  858.0     0.0  "
      ]
     },
     "execution_count": 41,
     "metadata": {},
     "output_type": "execute_result"
    }
   ],
   "source": [
    "used_cars_df_dummy.tail()"
   ]
  },
  {
   "cell_type": "code",
   "execution_count": 44,
   "metadata": {},
   "outputs": [
    {
     "data": {
      "text/plain": [
       "array([nan, '--'], dtype=object)"
      ]
     },
     "execution_count": 44,
     "metadata": {},
     "output_type": "execute_result"
    }
   ],
   "source": [
    "used_cars_df['bed_height'].unique()"
   ]
  },
  {
   "cell_type": "code",
   "execution_count": 36,
   "metadata": {},
   "outputs": [],
   "source": [
    "used_cars_numeric = used_cars_df_dummy[['back_legroom','daysonmarket'\n",
    "                                       , 'front_legroom', 'fuel_tank_volume', 'height', 'horsepower'\n",
    "                                       , 'length', 'mileage', 'price', 'seller_rating', 'torque', 'wheelbase', 'width', 'RPM', 'combine_fuel_economy']].copy()"
   ]
  },
  {
   "cell_type": "code",
   "execution_count": null,
   "metadata": {},
   "outputs": [],
   "source": [
    "used_cars_numeric.head(1102)"
   ]
  },
  {
   "cell_type": "code",
   "execution_count": null,
   "metadata": {},
   "outputs": [],
   "source": [
    "used_cars_numeric[used_cars_numeric['combine_fuel_economy'] > 0]"
   ]
  },
  {
   "cell_type": "code",
   "execution_count": null,
   "metadata": {},
   "outputs": [],
   "source": [
    "used_cars_numeric.isnull().sum()"
   ]
  },
  {
   "cell_type": "code",
   "execution_count": null,
   "metadata": {},
   "outputs": [],
   "source": [
    "## Determine VIF for all the columns to determine multi collinearity between the variables\n",
    "\n",
    "X = used_cars_numeric.drop('price', axis=1)\n",
    "## Remove unwanted variables\n",
    "variables_to_remove_5 = ['engine_displacement','city_fuel_economy', 'highway_fuel_economy' ]\n",
    "                        \n",
    "X.drop(variables_to_remove_5, axis = 1, inplace = True)\n",
    "vif_df = pd.DataFrame()\n",
    "vif_df[\"variables\"] = X.columns\n",
    "vif_df[\"VIF\"] = [variance_inflation_factor(X.values, i) for i in range(X.shape[1])] "
   ]
  },
  {
   "cell_type": "code",
   "execution_count": null,
   "metadata": {},
   "outputs": [],
   "source": [
    "vif_df"
   ]
  },
  {
   "cell_type": "code",
   "execution_count": null,
   "metadata": {},
   "outputs": [],
   "source": []
  },
  {
   "cell_type": "code",
   "execution_count": null,
   "metadata": {},
   "outputs": [],
   "source": []
  },
  {
   "cell_type": "code",
   "execution_count": null,
   "metadata": {},
   "outputs": [],
   "source": []
  }
 ],
 "metadata": {
  "kernelspec": {
   "display_name": "Python 3",
   "language": "python",
   "name": "python3"
  },
  "language_info": {
   "codemirror_mode": {
    "name": "ipython",
    "version": 3
   },
   "file_extension": ".py",
   "mimetype": "text/x-python",
   "name": "python",
   "nbconvert_exporter": "python",
   "pygments_lexer": "ipython3",
   "version": "3.8.3"
  }
 },
 "nbformat": 4,
 "nbformat_minor": 4
}
